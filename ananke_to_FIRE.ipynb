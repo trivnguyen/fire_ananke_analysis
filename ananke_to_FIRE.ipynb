{
 "cells": [
  {
   "cell_type": "markdown",
   "id": "a7055122",
   "metadata": {},
   "source": [
    "Convert Ananke coordinate to FIRE coordinate"
   ]
  },
  {
   "cell_type": "code",
   "execution_count": 1,
   "id": "7e903d2b",
   "metadata": {},
   "outputs": [],
   "source": [
    "import os\n",
    "from os.path import join\n",
    "import h5py\n",
    "\n",
    "import numpy as np\n",
    "import pandas as pd\n",
    "import scipy.optimize as optim\n",
    "from scipy.spatial.transform import Rotation as R\n",
    "from sklearn.metrics import mean_squared_error as mse\n",
    "from astropy import units as u\n",
    "import astropy.coordinates as coord"
   ]
  },
  {
   "cell_type": "code",
   "execution_count": 2,
   "id": "824d3549",
   "metadata": {},
   "outputs": [],
   "source": [
    "gal = 'm12f'\n",
    "pos_lsr = (0, 8.2, 0)\n",
    "if gal == 'm12i':\n",
    "    vel_lsr = (224.7092, -20.3801, 3.8954)\n",
    "elif gal == 'm12f':\n",
    "    vel_lsr = (226.1849, 14.3773, -4.8906)"
   ]
  },
  {
   "cell_type": "code",
   "execution_count": 3,
   "id": "e838fd7b",
   "metadata": {},
   "outputs": [],
   "source": [
    "# Read in merger tree, which contains the ID, FIRE coordinate, and coordinate of each star\n",
    "table = pd.read_csv(f'accretion_history/stars_accretion_history_{gal}_res7100_v2.csv')\n",
    "id_stars = table['id_stars'].values\n",
    "pos_tree = table[['xstar', 'ystar', 'zstar']].values\n",
    "pos_fire = table[['x_cart', 'y_cart', 'z_cart']].values\n",
    "vel_tree = table[['vxstar', 'vystar', 'vzstar']].values\n",
    "vel_fire = table[['vx_cart', 'vy_cart', 'vz_cart']].values"
   ]
  },
  {
   "cell_type": "markdown",
   "id": "f47e4fd4",
   "metadata": {},
   "source": [
    "Convert Ananke to Lina's accretion history table"
   ]
  },
  {
   "cell_type": "code",
   "execution_count": 4,
   "id": "3f60e1fa",
   "metadata": {},
   "outputs": [],
   "source": [
    "sim_dir = '/scratch/05328/tg846280/FIRE_Public_Simulations/ananke_subsamples/'\n",
    "sim_file = f'{gal}/lsr-0-rslice-0.{gal}-res7100-md-sliced-gcat-dr2.hdf5'\n",
    "with h5py.File(join(sim_dir, sim_file), 'r') as f:\n",
    "#     l = np.deg2rad(f['l_true'][:])   # galactic longitude\n",
    "#     b = np.deg2rad(f['b_true'][:])   # galactic lattitude\n",
    "#     p = f['parallax_true'][:]\n",
    "#     r = (p*u.mas).to_value(u.kpc, u.parallax())\n",
    "#     pmra_cosdec = f['pmra_true'][:]\n",
    "#     pmdec = f['pmdec_true'][:]\n",
    "#     rv = f['radial_velocity_true'][:]\n",
    "\n",
    "    px = f['px_true'][:]\n",
    "    py = f['py_true'][:]\n",
    "    pz = f['pz_true'][:]\n",
    "    vx = f['vx_true'][:]\n",
    "    vy = f['vy_true'][:]\n",
    "    vz = f['vz_true'][:]\n",
    "\n",
    "    parentid = f['parentid'][:]"
   ]
  },
  {
   "cell_type": "code",
   "execution_count": 5,
   "id": "3275a67d",
   "metadata": {},
   "outputs": [],
   "source": [
    "# x_ananke = r * np.cos(b) * np.cos(l)\n",
    "# y_ananke = r * np.cos(b) * np.sin(l)\n",
    "# z_ananke = r * np.sin(b)\n",
    "# pos_ananke = np.stack([x_ananke, y_ananke, z_ananke], 1)\n",
    "# pos_galc = to_galactocentric(pos_ananke, pos_lsr)\n",
    "\n",
    "pos = np.stack([px, py, pz], 1)\n",
    "vel = np.stack([vx, vy, vz], 1)\n",
    "\n",
    "rot1 = R.from_euler('Z', np.pi + np.arctan2(pos_lsr[1], pos_lsr[0]))\n",
    "pos1 = rot1.apply(pos) + pos_lsr\n",
    "vel1 = rot1.apply(vel) + vel_lsr\n",
    "\n",
    "# x is off by a negative sign (?), not sure why\n",
    "# TODO: FIX THIS\n",
    "vel1 = vel1 * np.array([-1, 1, 1])"
   ]
  },
  {
   "cell_type": "code",
   "execution_count": 22,
   "id": "8b22f185",
   "metadata": {},
   "outputs": [
    {
     "data": {
      "text/plain": [
       "array([ 3047337,  3346948,  3346948, ..., 10385932, 10385932, 10386681],\n",
       "      dtype=uint64)"
      ]
     },
     "execution_count": 22,
     "metadata": {},
     "output_type": "execute_result"
    }
   ],
   "source": [
    "parentid"
   ]
  },
  {
   "cell_type": "markdown",
   "id": "6de467f5",
   "metadata": {},
   "source": [
    "Convert from Lina's merger coordinate to FIRE coordinate"
   ]
  },
  {
   "cell_type": "code",
   "execution_count": 6,
   "id": "12bad5a8",
   "metadata": {},
   "outputs": [],
   "source": [
    "# Define MSE loss function\n",
    "def loss_func(params):    \n",
    "    alpha, beta, gamma = params  # three Euler angles\n",
    "    # define extrinsic rotation \n",
    "    r = R.from_euler('ZXZ', [alpha, beta, gamma], degrees=True)\n",
    "    \n",
    "    # apply transformation and return loss\n",
    "    return mse(r.apply(pos_tree), pos_fire)\n",
    "\n",
    "result = optim.minimize(loss_func, [45, 45, 45])\n",
    "rot2 = R.from_euler('ZXZ', result.x, degrees=True)\n",
    "pos2 = rot2.apply(pos1)\n",
    "vel2 = rot2.apply(vel1)"
   ]
  },
  {
   "cell_type": "code",
   "execution_count": 13,
   "id": "3c37adb6",
   "metadata": {},
   "outputs": [
    {
     "data": {
      "text/plain": [
       "(array([[ 1.25779469, -0.52738318, -1.73828223],\n",
       "        [ 2.30467258, -0.65630864,  1.51562237],\n",
       "        [-1.94921207,  0.35551772, -1.50780967],\n",
       "        ...,\n",
       "        [-2.64448133,  2.00397144, -2.46875066],\n",
       "        [-0.39061211,  0.65625325, -2.57421998],\n",
       "        [-2.63675597, -1.09759486, -3.67577282]]),\n",
       " array([[ 1.26907165, -0.53589799, -1.74459004],\n",
       "        [ 2.31357053, -0.66227699,  1.51455543],\n",
       "        [-1.93907888,  0.3505808 , -1.50789857],\n",
       "        ...,\n",
       "        [-2.63531016,  1.99695407, -2.46894024],\n",
       "        [-0.38296442,  0.65055506, -2.57611325],\n",
       "        [-2.62787813, -1.10053763, -3.67858648]]))"
      ]
     },
     "execution_count": 13,
     "metadata": {},
     "output_type": "execute_result"
    }
   ],
   "source": [
    "rot2.apply(pos_tree), pos_fire"
   ]
  },
  {
   "cell_type": "markdown",
   "id": "15795840",
   "metadata": {},
   "source": [
    "Test"
   ]
  },
  {
   "cell_type": "code",
   "execution_count": 35,
   "id": "3de0d56d",
   "metadata": {},
   "outputs": [],
   "source": [
    "unique_parentid, counts = np.unique(parentid, return_counts=True)\n",
    "id_test = unique_parentid[np.argsort(counts)[-1]]\n",
    "\n",
    "pos_tree_test = pos_tree[id_stars==id_test]\n",
    "pos_fire_test = pos_fire[id_stars==id_test]\n",
    "pos1_test = pos1[parentid==id_test]\n",
    "pos2_test = pos2[parentid==id_test]\n",
    "\n",
    "vel_tree_test = vel_tree[id_stars==id_test]\n",
    "vel_fire_test = vel_fire[id_stars==id_test]\n",
    "vel1_test = vel1[parentid==id_test]\n",
    "vel2_test = vel2[parentid==id_test]"
   ]
  },
  {
   "cell_type": "code",
   "execution_count": 36,
   "id": "85873796",
   "metadata": {},
   "outputs": [
    {
     "data": {
      "text/plain": [
       "(array([[ 3.00642776, -7.50732565, -0.08794808]]),\n",
       " array([[ 1.09409876e-01,  8.09578609e+00,  6.67659640e-02],\n",
       "        [ 1.15675164e-01,  8.09501352e+00,  1.47966627e-02],\n",
       "        [-4.15492418e-03,  8.21061229e+00,  1.64988236e-01],\n",
       "        ...,\n",
       "        [-1.41556559e-02,  8.08794515e+00,  1.06690002e-01],\n",
       "        [-1.76258533e-01,  8.05167000e+00,  1.84885701e-01],\n",
       "        [ 4.42617708e-02,  8.29283849e+00,  5.33285684e-02]]))"
      ]
     },
     "execution_count": 36,
     "metadata": {},
     "output_type": "execute_result"
    }
   ],
   "source": [
    "pos_tree_test, pos1_test"
   ]
  },
  {
   "cell_type": "code",
   "execution_count": 111,
   "id": "d00fb472",
   "metadata": {},
   "outputs": [],
   "source": [
    "with h5py.File(sim_file, 'a') as f:\n",
    "    for key in ('px_fire', 'py_fire', 'pz_fire', 'vx_fire', 'vy_fire', 'vz_fire'):\n",
    "        if f.get(key):\n",
    "            del f[key]\n",
    "    f.create_dataset('px_fire', data=pos2[0])\n",
    "    f.create_dataset('py_fire', data=pos2[1])\n",
    "    f.create_dataset('pz_fire', data=pos2[2])\n",
    "    f.create_dataset('vx_fire', data=vel2[0])\n",
    "    f.create_dataset('vy_fire', data=vel2[1])\n",
    "    f.create_dataset('vz_fire', data=vel2[2])"
   ]
  },
  {
   "cell_type": "code",
   "execution_count": null,
   "id": "5f745fe5",
   "metadata": {},
   "outputs": [],
   "source": []
  }
 ],
 "metadata": {
  "kernelspec": {
   "display_name": "Python 3",
   "language": "python",
   "name": "python3"
  },
  "language_info": {
   "codemirror_mode": {
    "name": "ipython",
    "version": 3
   },
   "file_extension": ".py",
   "mimetype": "text/x-python",
   "name": "python",
   "nbconvert_exporter": "python",
   "pygments_lexer": "ipython3",
   "version": "3.7.11"
  }
 },
 "nbformat": 4,
 "nbformat_minor": 5
}
