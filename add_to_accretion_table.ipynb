{
 "cells": [
  {
   "cell_type": "code",
   "execution_count": 1,
   "id": "f14fc846",
   "metadata": {},
   "outputs": [],
   "source": [
    "import os\n",
    "import h5py\n",
    "import json\n",
    "import glob\n",
    "import shutil\n",
    "\n",
    "import numpy as np\n",
    "import matplotlib as mpl\n",
    "import matplotlib.pyplot as plt\n",
    "import matplotlib.colors as colors\n",
    "import seaborn as sns\n",
    "import pandas as pd\n",
    "\n",
    "import gizmo_analysis as ga\n",
    "import utilities as ut\n",
    "\n",
    "%matplotlib inline\n",
    "\n",
    "mpl.rc('font', size=20)\n",
    "mpl.rc('figure', figsize=(8, 5), facecolor='w')\n",
    "mpl.rcParams['font.family'] = 'STIXGeneral'\n",
    "mpl.rcParams['text.latex.preamble'] = r'\\usepackage{amsmath}'"
   ]
  },
  {
   "cell_type": "code",
   "execution_count": 2,
   "id": "3004e29f",
   "metadata": {},
   "outputs": [],
   "source": [
    "table_fn = 'accretion_history/stars_accretion_history_m12f_v1.csv'\n",
    "table = pd.read_csv(table_fn)\n",
    "indices = table['id_stars'].to_numpy()"
   ]
  },
  {
   "cell_type": "code",
   "execution_count": 3,
   "id": "c2a3cf4d",
   "metadata": {},
   "outputs": [
    {
     "name": "stdout",
     "output_type": "stream",
     "text": [
      "\n",
      "# in utilities.simulation.Snapshot():\n",
      "* reading:  scratch/projects/xsede/GalaxiesOnFIRE/metal_diffusion/m12f_res7100/snapshot_times.txt\n",
      "\n",
      "  using snapshot index = 600, redshift = 0.000\n",
      "\n",
      "\n",
      "# in gizmo_analysis.gizmo_io.Read():\n",
      "* reading header from:  scratch/projects/xsede/GalaxiesOnFIRE/metal_diffusion/m12f_res7100/output/snapdir_600/snapshot_600.0.hdf5\n",
      "  snapshot contains the following number of particles:\n",
      "    dark      (id = 1): 96239056 particles\n",
      "    dark2     (id = 2): 7591203 particles\n",
      "    gas       (id = 0): 80307825 particles\n",
      "    star      (id = 4): 16066489 particles\n",
      "    blackhole (id = 5): 0 particles\n",
      "\n",
      "* reading species: ['star']\n",
      "* reading particles from:\n",
      "    snapshot_600.0.hdf5\n",
      "    snapshot_600.1.hdf5\n",
      "    snapshot_600.2.hdf5\n",
      "    snapshot_600.3.hdf5\n",
      "\n",
      "* reading cosmological parameters from:  scratch/projects/xsede/GalaxiesOnFIRE/metal_diffusion/m12f_res7100/initial_condition/ic_agora_m12f.conf\n",
      "\n",
      "* checking sanity of particle properties\n",
      "! warning: star id.child [min, max] = [0.000, 4.289e9]\n",
      "! warning: star mass [min, med, max] = [3307.548, 5390.065, 54563.969]\n",
      "\n",
      "\n",
      "# in gizmo_analysis.gizmo_track.ParticleCoordinate():\n",
      "  read 1 host (position, velocity, principal axes) from:  scratch/projects/xsede/GalaxiesOnFIRE/metal_diffusion/m12f_res7100/track/host_coordinates.hdf5\n",
      "  host1 position = (38711.76, 47665.07, 46817.27) [kpc comoving]\n",
      "  host1 velocity = (-156.3, 161.7, 106.2) [km / s]\n",
      "  host1 axis ratios = (0.16, 0.17, 0.97)\n",
      "\n"
     ]
    }
   ],
   "source": [
    "# Picking a sample simulation and a snapshot. \n",
    "sim_dir = f'/scratch/projects/xsede/GalaxiesOnFIRE/metal_diffusion/m12f_res7100'\n",
    "nsnap = 600\n",
    "\n",
    "#Read using gizmo\n",
    "part = ga.io.Read.read_snapshots(\n",
    "    species=['star'], snapshot_values=nsnap, simulation_directory=sim_dir,\n",
    "    assign_hosts=True, assign_hosts_rotation=True)"
   ]
  },
  {
   "cell_type": "code",
   "execution_count": 4,
   "id": "c1352938",
   "metadata": {},
   "outputs": [],
   "source": [
    "# Get desired attributes to add \n",
    "form_scalefactor = part['star']['form.scalefactor'][indices]\n",
    "form_time = part['star'].prop('form.time')[indices]\n",
    "cyl_velocity = part['star'].prop('host.velocity.principle.cylindrical')[indices]\n",
    "cyl_distance = part['star'].prop('host.distance.principle.cylindrical')[indices]\n",
    "velocity = part['star'].prop('host.velocity.principle')[indices]\n",
    "distance = part['star'].prop('host.distance.principle')[indices]"
   ]
  },
  {
   "cell_type": "code",
   "execution_count": 5,
   "id": "35bba1a3",
   "metadata": {},
   "outputs": [],
   "source": [
    "table['form_scalefactor'] = form_scalefactor\n",
    "table['form_time'] = form_time\n",
    "table['vr_cyl'] = cyl_velocity[:, 0]\n",
    "table['vphi_cyl'] = cyl_velocity[:, 1]\n",
    "table['vz_cyl'] = cyl_velocity[:, 2]\n",
    "table['r_cyl'] = cyl_distance[:, 0]\n",
    "table['phi_cyl'] = cyl_distance[:, 1]\n",
    "table['z_cyl'] = cyl_distance[:, 2]\n",
    "table['vx_cart'] = velocity[:, 0]\n",
    "table['vy_cart'] = velocity[:, 1]\n",
    "table['vz_cart'] = velocity[:, 2]\n",
    "table['x_cart'] = distance[:, 0]\n",
    "table['y_cart'] = distance[:, 1]\n",
    "table['z_cart'] = distance[:, 2]"
   ]
  },
  {
   "cell_type": "code",
   "execution_count": 6,
   "id": "10d2ce3d",
   "metadata": {},
   "outputs": [],
   "source": [
    "table.to_csv('accretion_history/stars_accretion_history_m12f_v2.csv')"
   ]
  }
 ],
 "metadata": {
  "kernelspec": {
   "display_name": "Python 3",
   "language": "python",
   "name": "python3"
  },
  "language_info": {
   "codemirror_mode": {
    "name": "ipython",
    "version": 3
   },
   "file_extension": ".py",
   "mimetype": "text/x-python",
   "name": "python",
   "nbconvert_exporter": "python",
   "pygments_lexer": "ipython3",
   "version": "3.7.11"
  }
 },
 "nbformat": 4,
 "nbformat_minor": 5
}
